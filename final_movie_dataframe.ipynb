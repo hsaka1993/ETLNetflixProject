{
 "cells": [
  {
   "cell_type": "code",
   "execution_count": 22,
   "metadata": {},
   "outputs": [],
   "source": [
    "import pandas as pd\n",
    "from sqlalchemy import create_engine\n"
   ]
  },
  {
   "cell_type": "markdown",
   "metadata": {},
   "source": [
    "### Extract CSVs into DataFrames"
   ]
  },
  {
   "cell_type": "code",
   "execution_count": 23,
   "metadata": {},
   "outputs": [],
   "source": [
    "# import the imdb data\n",
    "imdb_file = \"IMDb movies.csv\"\n",
    "imdb_df = pd.read_csv(imdb_file)"
   ]
  },
  {
   "cell_type": "code",
   "execution_count": 24,
   "metadata": {},
   "outputs": [
    {
     "name": "stdout",
     "output_type": "stream",
     "text": [
      "<class 'pandas.core.frame.DataFrame'>\n",
      "RangeIndex: 81273 entries, 0 to 81272\n",
      "Data columns (total 22 columns):\n",
      " #   Column                 Non-Null Count  Dtype  \n",
      "---  ------                 --------------  -----  \n",
      " 0   imdb_title_id          81273 non-null  object \n",
      " 1   title                  81273 non-null  object \n",
      " 2   original_title         81273 non-null  object \n",
      " 3   year                   81273 non-null  int64  \n",
      " 4   date_published         81273 non-null  object \n",
      " 5   genre                  81273 non-null  object \n",
      " 6   duration               81273 non-null  int64  \n",
      " 7   country                81234 non-null  object \n",
      " 8   language               80518 non-null  object \n",
      " 9   director               81200 non-null  object \n",
      " 10  writer                 79780 non-null  object \n",
      " 11  production_company     76948 non-null  object \n",
      " 12  actors                 81207 non-null  object \n",
      " 13  description            78843 non-null  object \n",
      " 14  avg_vote               81273 non-null  float64\n",
      " 15  votes                  81273 non-null  int64  \n",
      " 16  budget                 22804 non-null  object \n",
      " 17  usa_gross_income       15094 non-null  object \n",
      " 18  worlwide_gross_income  29892 non-null  object \n",
      " 19  metascore              12722 non-null  float64\n",
      " 20  reviews_from_users     74196 non-null  float64\n",
      " 21  reviews_from_critics   70286 non-null  float64\n",
      "dtypes: float64(4), int64(3), object(15)\n",
      "memory usage: 13.6+ MB\n"
     ]
    }
   ],
   "source": [
    "imdb_df.info()"
   ]
  },
  {
   "cell_type": "code",
   "execution_count": 25,
   "metadata": {},
   "outputs": [
    {
     "name": "stdout",
     "output_type": "stream",
     "text": [
      "<class 'pandas.core.frame.DataFrame'>\n",
      "RangeIndex: 6234 entries, 0 to 6233\n",
      "Data columns (total 12 columns):\n",
      " #   Column        Non-Null Count  Dtype \n",
      "---  ------        --------------  ----- \n",
      " 0   show_id       6234 non-null   int64 \n",
      " 1   type          6234 non-null   object\n",
      " 2   title         6234 non-null   object\n",
      " 3   director      4265 non-null   object\n",
      " 4   cast          5664 non-null   object\n",
      " 5   country       5758 non-null   object\n",
      " 6   date_added    6223 non-null   object\n",
      " 7   release_year  6234 non-null   int64 \n",
      " 8   rating        6224 non-null   object\n",
      " 9   duration      6234 non-null   object\n",
      " 10  listed_in     6234 non-null   object\n",
      " 11  description   6234 non-null   object\n",
      "dtypes: int64(2), object(10)\n",
      "memory usage: 584.6+ KB\n"
     ]
    }
   ],
   "source": [
    "# import the netflix data\n",
    "netflix_file = \"netflix_titles.csv\"\n",
    "netflix_df = pd.read_csv(netflix_file)\n",
    "netflix_df.info()"
   ]
  },
  {
   "cell_type": "code",
   "execution_count": 26,
   "metadata": {},
   "outputs": [
    {
     "name": "stdout",
     "output_type": "stream",
     "text": [
      "<class 'pandas.core.frame.DataFrame'>\n",
      "Int64Index: 4265 entries, 0 to 6231\n",
      "Data columns (total 12 columns):\n",
      " #   Column        Non-Null Count  Dtype \n",
      "---  ------        --------------  ----- \n",
      " 0   show_id       4265 non-null   int64 \n",
      " 1   type          4265 non-null   object\n",
      " 2   title         4265 non-null   object\n",
      " 3   director      4137 non-null   object\n",
      " 4   cast          3905 non-null   object\n",
      " 5   country       4070 non-null   object\n",
      " 6   date_added    4264 non-null   object\n",
      " 7   release_year  4265 non-null   int64 \n",
      " 8   rating        4257 non-null   object\n",
      " 9   duration      4265 non-null   object\n",
      " 10  listed_in     4265 non-null   object\n",
      " 11  description   4265 non-null   object\n",
      "dtypes: int64(2), object(10)\n",
      "memory usage: 433.2+ KB\n",
      "<class 'pandas.core.frame.DataFrame'>\n",
      "Int64Index: 1969 entries, 2 to 6233\n",
      "Data columns (total 12 columns):\n",
      " #   Column        Non-Null Count  Dtype \n",
      "---  ------        --------------  ----- \n",
      " 0   show_id       1969 non-null   int64 \n",
      " 1   type          1969 non-null   object\n",
      " 2   title         1969 non-null   object\n",
      " 3   director      128 non-null    object\n",
      " 4   cast          1759 non-null   object\n",
      " 5   country       1688 non-null   object\n",
      " 6   date_added    1959 non-null   object\n",
      " 7   release_year  1969 non-null   int64 \n",
      " 8   rating        1967 non-null   object\n",
      " 9   duration      1969 non-null   object\n",
      " 10  listed_in     1969 non-null   object\n",
      " 11  description   1969 non-null   object\n",
      "dtypes: int64(2), object(10)\n",
      "memory usage: 200.0+ KB\n"
     ]
    }
   ],
   "source": [
    "#split the netflix data into movies and TV shows\n",
    "netflix_movies_df = netflix_df.loc[netflix_df['type']=='Movie',:]\n",
    "netflix_movies_df.info()\n",
    "netflix_TV_df = netflix_df.loc[netflix_df['type']=='TV Show']\n",
    "netflix_TV_df.info()"
   ]
  },
  {
   "cell_type": "code",
   "execution_count": 27,
   "metadata": {},
   "outputs": [
    {
     "name": "stdout",
     "output_type": "stream",
     "text": [
      "There are 128 movies with no director information\n",
      "There are 1841 TV Shows with no director information\n"
     ]
    }
   ],
   "source": [
    "# after checking the data we decided to merge on year, director + title\n",
    "# to avoid mismatches in the data\n",
    "#check for missing directors in the data and decided to focus on movies\n",
    "bool_series = pd.isnull(netflix_movies_df[\"director\"])  \n",
    "print (f\"There are {len(netflix_movies_df[bool_series])} movies with no director information\") \n",
    "bool_series = pd.isnull(netflix_TV_df[\"director\"])  \n",
    "print (f\"There are {len(netflix_TV_df[bool_series])} TV Shows with no director information\") \n",
    " "
   ]
  },
  {
   "cell_type": "code",
   "execution_count": 28,
   "metadata": {},
   "outputs": [
    {
     "name": "stdout",
     "output_type": "stream",
     "text": [
      "<class 'pandas.core.frame.DataFrame'>\n",
      "Int64Index: 1715 entries, 0 to 1714\n",
      "Data columns (total 32 columns):\n",
      " #   Column                 Non-Null Count  Dtype  \n",
      "---  ------                 --------------  -----  \n",
      " 0   show_id                1715 non-null   int64  \n",
      " 1   type                   1715 non-null   object \n",
      " 2   title                  1715 non-null   object \n",
      " 3   director               1715 non-null   object \n",
      " 4   cast                   1714 non-null   object \n",
      " 5   country_net            1711 non-null   object \n",
      " 6   date_added             1715 non-null   object \n",
      " 7   release_year           1715 non-null   int64  \n",
      " 8   rating                 1715 non-null   object \n",
      " 9   duration_net           1715 non-null   object \n",
      " 10  listed_in              1715 non-null   object \n",
      " 11  description_net        1715 non-null   object \n",
      " 12  imdb_title_id          1715 non-null   object \n",
      " 13  original_title         1715 non-null   object \n",
      " 14  year                   1715 non-null   int64  \n",
      " 15  date_published         1715 non-null   object \n",
      " 16  genre                  1715 non-null   object \n",
      " 17  duration_imdb          1715 non-null   int64  \n",
      " 18  country_imdb           1714 non-null   object \n",
      " 19  language               1704 non-null   object \n",
      " 20  writer                 1693 non-null   object \n",
      " 21  production_company     1672 non-null   object \n",
      " 22  actors                 1715 non-null   object \n",
      " 23  description_imdb       1715 non-null   object \n",
      " 24  avg_vote               1715 non-null   float64\n",
      " 25  votes                  1715 non-null   int64  \n",
      " 26  budget                 722 non-null    object \n",
      " 27  usa_gross_income       755 non-null    object \n",
      " 28  worlwide_gross_income  1107 non-null   object \n",
      " 29  metascore              843 non-null    float64\n",
      " 30  reviews_from_users     1696 non-null   float64\n",
      " 31  reviews_from_critics   1630 non-null   float64\n",
      "dtypes: float64(4), int64(5), object(23)\n",
      "memory usage: 442.1+ KB\n"
     ]
    }
   ],
   "source": [
    "# merge the two data sets on title, year and director\n",
    "combined_movie_df = pd.merge(netflix_movies_df, imdb_df, left_on=\n",
    "['title','director','release_year'], \n",
    "right_on=['title','director','year'], suffixes=('_net', '_imdb') )\n",
    "combined_movie_df.info()"
   ]
  },
  {
   "cell_type": "code",
   "execution_count": 29,
   "metadata": {},
   "outputs": [
    {
     "data": {
      "text/plain": [
       "Benji                                           2\n",
       "One Day                                         2\n",
       "Zoom                                            2\n",
       "Blood Money                                     2\n",
       "Drive                                           2\n",
       "                                               ..\n",
       "Annabelle Hooper and the Ghosts of Nantucket    1\n",
       "Imagine That                                    1\n",
       "The Tuxedo                                      1\n",
       "Kon-Tiki                                        1\n",
       "The Charnel House                               1\n",
       "Name: title, Length: 1704, dtype: int64"
      ]
     },
     "execution_count": 29,
     "metadata": {},
     "output_type": "execute_result"
    }
   ],
   "source": [
    "#check for mismatches between the two data sets\n",
    "#different movies with the same title\n",
    "combined_movie_df[\"title\"].value_counts()\n"
   ]
  },
  {
   "cell_type": "code",
   "execution_count": 30,
   "metadata": {},
   "outputs": [
    {
     "name": "stdout",
     "output_type": "stream",
     "text": [
      "11\n",
      "377                   Drive\n",
      "575            The Outsider\n",
      "639                  Sarkar\n",
      "653                   Benji\n",
      "1053                   Solo\n",
      "1215    People You May Know\n",
      "1237            Blood Money\n",
      "1412                One Day\n",
      "1419                    Don\n",
      "1439                   Zoom\n",
      "1674            The Silence\n",
      "Name: title, dtype: object\n"
     ]
    }
   ],
   "source": [
    "# there are 11 entries that are duplicated\n",
    "pd.options.display.max_rows = 1000 #this allows for full printing\n",
    "duplicateDFRow = combined_movie_df[combined_movie_df[\"title\"].duplicated()]\n",
    "print(len(duplicateDFRow))\n",
    "print(duplicateDFRow[\"title\"])"
   ]
  },
  {
   "cell_type": "code",
   "execution_count": 31,
   "metadata": {},
   "outputs": [
    {
     "name": "stdout",
     "output_type": "stream",
     "text": [
      "<class 'pandas.core.frame.DataFrame'>\n",
      "Int64Index: 1704 entries, 0 to 1714\n",
      "Data columns (total 32 columns):\n",
      " #   Column                 Non-Null Count  Dtype  \n",
      "---  ------                 --------------  -----  \n",
      " 0   show_id                1704 non-null   int64  \n",
      " 1   type                   1704 non-null   object \n",
      " 2   title                  1704 non-null   object \n",
      " 3   director               1704 non-null   object \n",
      " 4   cast                   1703 non-null   object \n",
      " 5   country_net            1700 non-null   object \n",
      " 6   date_added             1704 non-null   object \n",
      " 7   release_year           1704 non-null   int64  \n",
      " 8   rating                 1704 non-null   object \n",
      " 9   duration_net           1704 non-null   object \n",
      " 10  listed_in              1704 non-null   object \n",
      " 11  description_net        1704 non-null   object \n",
      " 12  imdb_title_id          1704 non-null   object \n",
      " 13  original_title         1704 non-null   object \n",
      " 14  year                   1704 non-null   int64  \n",
      " 15  date_published         1704 non-null   object \n",
      " 16  genre                  1704 non-null   object \n",
      " 17  duration_imdb          1704 non-null   int64  \n",
      " 18  country_imdb           1703 non-null   object \n",
      " 19  language               1693 non-null   object \n",
      " 20  writer                 1682 non-null   object \n",
      " 21  production_company     1661 non-null   object \n",
      " 22  actors                 1704 non-null   object \n",
      " 23  description_imdb       1704 non-null   object \n",
      " 24  avg_vote               1704 non-null   float64\n",
      " 25  votes                  1704 non-null   int64  \n",
      " 26  budget                 718 non-null    object \n",
      " 27  usa_gross_income       753 non-null    object \n",
      " 28  worlwide_gross_income  1100 non-null   object \n",
      " 29  metascore              837 non-null    float64\n",
      " 30  reviews_from_users     1685 non-null   float64\n",
      " 31  reviews_from_critics   1619 non-null   float64\n",
      "dtypes: float64(4), int64(5), object(23)\n",
      "memory usage: 439.3+ KB\n"
     ]
    }
   ],
   "source": [
    "#We drop the duplicated items\n",
    "\n",
    "combined_movie_df = combined_movie_df.drop_duplicates(subset = [\"title\"])\n",
    "\n",
    "combined_movie_df.info()"
   ]
  },
  {
   "cell_type": "code",
   "execution_count": 32,
   "metadata": {},
   "outputs": [
    {
     "name": "stdout",
     "output_type": "stream",
     "text": [
      "<class 'pandas.core.frame.DataFrame'>\n",
      "Int64Index: 1704 entries, 0 to 1714\n",
      "Data columns (total 24 columns):\n",
      " #   Column            Non-Null Count  Dtype  \n",
      "---  ------            --------------  -----  \n",
      " 0   show_id           1704 non-null   int64  \n",
      " 1   type              1704 non-null   object \n",
      " 2   title             1704 non-null   object \n",
      " 3   director          1704 non-null   object \n",
      " 4   cast              1703 non-null   object \n",
      " 5   country_net       1700 non-null   object \n",
      " 6   date_added        1704 non-null   object \n",
      " 7   release_year      1704 non-null   int64  \n",
      " 8   rating            1704 non-null   object \n",
      " 9   duration_net      1704 non-null   object \n",
      " 10  listed_in         1704 non-null   object \n",
      " 11  description_net   1704 non-null   object \n",
      " 12  imdb_title_id     1704 non-null   object \n",
      " 13  original_title    1704 non-null   object \n",
      " 14  year              1704 non-null   int64  \n",
      " 15  date_published    1704 non-null   object \n",
      " 16  genre             1704 non-null   object \n",
      " 17  duration_imdb     1704 non-null   int64  \n",
      " 18  country_imdb      1703 non-null   object \n",
      " 19  language          1693 non-null   object \n",
      " 20  actors            1704 non-null   object \n",
      " 21  description_imdb  1704 non-null   object \n",
      " 22  avg_vote          1704 non-null   float64\n",
      " 23  votes             1704 non-null   int64  \n",
      "dtypes: float64(1), int64(5), object(18)\n",
      "memory usage: 332.8+ KB\n"
     ]
    }
   ],
   "source": [
    "# cut the columns that are missing a lot of information\n",
    "#27 budget # 28 usa_gross_income #29 worlwide_gross_income #30 object metascore             \n",
    "combined_movie_df = combined_movie_df[['show_id', 'type', 'title','director', 'cast', 'country_net', 'date_added', 'release_year', 'rating', 'duration_net',\n",
    "'listed_in', 'description_net', 'imdb_title_id', 'original_title', 'year',\n",
    "'date_published', 'genre', 'duration_imdb', 'country_imdb', 'language', 'actors', 'description_imdb', 'avg_vote',\n",
    "'votes']].copy()\n",
    "combined_movie_df.info()"
   ]
  },
  {
   "cell_type": "code",
   "execution_count": 33,
   "metadata": {},
   "outputs": [
    {
     "name": "stdout",
     "output_type": "stream",
     "text": [
      "<class 'pandas.core.frame.DataFrame'>\n",
      "Int64Index: 1704 entries, 0 to 1714\n",
      "Data columns (total 20 columns):\n",
      " #   Column            Non-Null Count  Dtype  \n",
      "---  ------            --------------  -----  \n",
      " 0   show_id           1704 non-null   int64  \n",
      " 1   type              1704 non-null   object \n",
      " 2   director          1704 non-null   object \n",
      " 3   title             1704 non-null   object \n",
      " 4   date_added        1704 non-null   object \n",
      " 5   country_net       1700 non-null   object \n",
      " 6   release_year      1704 non-null   int64  \n",
      " 7   rating            1704 non-null   object \n",
      " 8   listed_in         1704 non-null   object \n",
      " 9   description_net   1704 non-null   object \n",
      " 10  imdb_title_id     1704 non-null   object \n",
      " 11  original_title    1704 non-null   object \n",
      " 12  genre             1704 non-null   object \n",
      " 13  duration_imdb     1704 non-null   int64  \n",
      " 14  country_imdb      1703 non-null   object \n",
      " 15  language          1693 non-null   object \n",
      " 16  actors            1704 non-null   object \n",
      " 17  description_imdb  1704 non-null   object \n",
      " 18  avg_vote          1704 non-null   float64\n",
      " 19  votes             1704 non-null   int64  \n",
      "dtypes: float64(1), int64(4), object(15)\n",
      "memory usage: 279.6+ KB\n"
     ]
    }
   ],
   "source": [
    "#Actors and cast are the same information, but cast is missing some data.\n",
    "#The two durations have the same infomation, but imdb duration is integer\n",
    "#and netflix is missing some data, so we cut netflix.\n",
    "#Release year, year and date published are the same, so we cut year and date_published\n",
    "\n",
    "combined_movie_df = combined_movie_df[['show_id', 'type', 'director', \n",
    "'title', 'date_added', 'country_net' ,'release_year', 'rating',\n",
    "'listed_in', 'description_net', 'imdb_title_id', 'original_title',\n",
    "'genre', 'duration_imdb',\n",
    "'country_imdb', 'language', 'actors', 'description_imdb', 'avg_vote',\n",
    "'votes']].copy()\n",
    "combined_movie_df.info()"
   ]
  },
  {
   "cell_type": "code",
   "execution_count": 34,
   "metadata": {},
   "outputs": [
    {
     "data": {
      "text/html": [
       "<div>\n",
       "<style scoped>\n",
       "    .dataframe tbody tr th:only-of-type {\n",
       "        vertical-align: middle;\n",
       "    }\n",
       "\n",
       "    .dataframe tbody tr th {\n",
       "        vertical-align: top;\n",
       "    }\n",
       "\n",
       "    .dataframe thead th {\n",
       "        text-align: right;\n",
       "    }\n",
       "</style>\n",
       "<table border=\"1\" class=\"dataframe\">\n",
       "  <thead>\n",
       "    <tr style=\"text-align: right;\">\n",
       "      <th></th>\n",
       "      <th>132</th>\n",
       "    </tr>\n",
       "  </thead>\n",
       "  <tbody>\n",
       "    <tr>\n",
       "      <th>show_id</th>\n",
       "      <td>80211622</td>\n",
       "    </tr>\n",
       "    <tr>\n",
       "      <th>type</th>\n",
       "      <td>Movie</td>\n",
       "    </tr>\n",
       "    <tr>\n",
       "      <th>director</th>\n",
       "      <td>Tinge Krishnan</td>\n",
       "    </tr>\n",
       "    <tr>\n",
       "      <th>title</th>\n",
       "      <td>Been So Long</td>\n",
       "    </tr>\n",
       "    <tr>\n",
       "      <th>date_added</th>\n",
       "      <td>October 26, 2018</td>\n",
       "    </tr>\n",
       "    <tr>\n",
       "      <th>country_net</th>\n",
       "      <td>NaN</td>\n",
       "    </tr>\n",
       "    <tr>\n",
       "      <th>release_year</th>\n",
       "      <td>2018</td>\n",
       "    </tr>\n",
       "    <tr>\n",
       "      <th>rating</th>\n",
       "      <td>TV-MA</td>\n",
       "    </tr>\n",
       "    <tr>\n",
       "      <th>listed_in</th>\n",
       "      <td>Dramas, International Movies, Music &amp; Musicals</td>\n",
       "    </tr>\n",
       "    <tr>\n",
       "      <th>description_net</th>\n",
       "      <td>A single mother in London's Camden Town hears ...</td>\n",
       "    </tr>\n",
       "    <tr>\n",
       "      <th>imdb_title_id</th>\n",
       "      <td>tt1682886</td>\n",
       "    </tr>\n",
       "    <tr>\n",
       "      <th>original_title</th>\n",
       "      <td>Been So Long</td>\n",
       "    </tr>\n",
       "    <tr>\n",
       "      <th>genre</th>\n",
       "      <td>Drama, Musical, Romance</td>\n",
       "    </tr>\n",
       "    <tr>\n",
       "      <th>duration_imdb</th>\n",
       "      <td>100</td>\n",
       "    </tr>\n",
       "    <tr>\n",
       "      <th>country_imdb</th>\n",
       "      <td>NaN</td>\n",
       "    </tr>\n",
       "    <tr>\n",
       "      <th>language</th>\n",
       "      <td>NaN</td>\n",
       "    </tr>\n",
       "    <tr>\n",
       "      <th>actors</th>\n",
       "      <td>Michaela Coel, Mya Lewis, Arinzé Kene, George ...</td>\n",
       "    </tr>\n",
       "    <tr>\n",
       "      <th>description_imdb</th>\n",
       "      <td>A dedicated single mother who, on an unusual n...</td>\n",
       "    </tr>\n",
       "    <tr>\n",
       "      <th>avg_vote</th>\n",
       "      <td>5.5</td>\n",
       "    </tr>\n",
       "    <tr>\n",
       "      <th>votes</th>\n",
       "      <td>656</td>\n",
       "    </tr>\n",
       "  </tbody>\n",
       "</table>\n",
       "</div>"
      ],
      "text/plain": [
       "                                                                132\n",
       "show_id                                                    80211622\n",
       "type                                                          Movie\n",
       "director                                             Tinge Krishnan\n",
       "title                                                  Been So Long\n",
       "date_added                                         October 26, 2018\n",
       "country_net                                                     NaN\n",
       "release_year                                                   2018\n",
       "rating                                                        TV-MA\n",
       "listed_in            Dramas, International Movies, Music & Musicals\n",
       "description_net   A single mother in London's Camden Town hears ...\n",
       "imdb_title_id                                             tt1682886\n",
       "original_title                                         Been So Long\n",
       "genre                                       Drama, Musical, Romance\n",
       "duration_imdb                                                   100\n",
       "country_imdb                                                    NaN\n",
       "language                                                        NaN\n",
       "actors            Michaela Coel, Mya Lewis, Arinzé Kene, George ...\n",
       "description_imdb  A dedicated single mother who, on an unusual n...\n",
       "avg_vote                                                        5.5\n",
       "votes                                                           656"
      ]
     },
     "execution_count": 34,
     "metadata": {},
     "output_type": "execute_result"
    }
   ],
   "source": [
    "#Country columns are duplicated, and missing information\n",
    "#We check if we can complete the information by combining the columns\n",
    "#Check if the country null values are missing in both columns\n",
    "bool_series = pd.isnull(combined_movie_df['country_net']) \n",
    "bool_series = pd.isnull(combined_movie_df['country_imdb'])  \n",
    "combined_movie_df[bool_series].T  "
   ]
  },
  {
   "cell_type": "code",
   "execution_count": 35,
   "metadata": {},
   "outputs": [
    {
     "name": "stdout",
     "output_type": "stream",
     "text": [
      "<class 'pandas.core.frame.DataFrame'>\n",
      "Int64Index: 1704 entries, 0 to 1714\n",
      "Data columns (total 19 columns):\n",
      " #   Column            Non-Null Count  Dtype  \n",
      "---  ------            --------------  -----  \n",
      " 0   show_id           1704 non-null   int64  \n",
      " 1   type              1704 non-null   object \n",
      " 2   title             1704 non-null   object \n",
      " 3   director          1704 non-null   object \n",
      " 4   date_added        1704 non-null   object \n",
      " 5   release_year      1704 non-null   int64  \n",
      " 6   rating            1704 non-null   object \n",
      " 7   listed_in         1704 non-null   object \n",
      " 8   description_net   1704 non-null   object \n",
      " 9   imdb_title_id     1704 non-null   object \n",
      " 10  original_title    1704 non-null   object \n",
      " 11  genre             1704 non-null   object \n",
      " 12  duration_imdb     1704 non-null   int64  \n",
      " 13  country_imdb      1704 non-null   object \n",
      " 14  language          1693 non-null   object \n",
      " 15  actors            1704 non-null   object \n",
      " 16  description_imdb  1704 non-null   object \n",
      " 17  avg_vote          1704 non-null   float64\n",
      " 18  votes             1704 non-null   int64  \n",
      "dtypes: float64(1), int64(4), object(14)\n",
      "memory usage: 266.2+ KB\n"
     ]
    }
   ],
   "source": [
    "#both datasets are missing one piece of data so we replace it with not available\n",
    "# the imdb database has more country data so we cut country_net\n",
    "combined_movie_df[\"country_imdb\"].fillna(\"Not Available\", inplace = True)\n",
    "\n",
    "combined_movie_df = combined_movie_df[['show_id', 'type', 'title', 'director','date_added', \n",
    "'release_year', 'rating','listed_in', 'description_net', 'imdb_title_id', 'original_title',\n",
    "'genre', 'duration_imdb', 'country_imdb', 'language', 'actors', 'description_imdb',\n",
    "'avg_vote','votes']].copy()\n",
    "combined_movie_df.info()\n"
   ]
  },
  {
   "cell_type": "code",
   "execution_count": 36,
   "metadata": {},
   "outputs": [],
   "source": [
    "# fill the missing rating and language data as \"not available\"\n",
    "combined_movie_df[\"rating\"].fillna(\"Not Available\", inplace = True)\n",
    "combined_movie_df[\"language\"].fillna(\"Not Available\", inplace = True)"
   ]
  },
  {
   "cell_type": "code",
   "execution_count": 37,
   "metadata": {},
   "outputs": [
    {
     "data": {
      "text/plain": [
       "0       False\n",
       "1146    False\n",
       "1145    False\n",
       "1144    False\n",
       "1143    False\n",
       "        ...  \n",
       "1714    False\n",
       "1103     True\n",
       "664      True\n",
       "642      True\n",
       "320      True\n",
       "Length: 1704, dtype: bool"
      ]
     },
     "execution_count": 37,
     "metadata": {},
     "output_type": "execute_result"
    }
   ],
   "source": [
    "# check to see if the \"original title information is important\n",
    "different_title = combined_movie_df.title != combined_movie_df.original_title\n",
    "different_title.sort_values()\n"
   ]
  },
  {
   "cell_type": "code",
   "execution_count": 44,
   "metadata": {},
   "outputs": [
    {
     "name": "stdout",
     "output_type": "stream",
     "text": [
      "<class 'pandas.core.frame.DataFrame'>\n",
      "Int64Index: 1704 entries, 0 to 1714\n",
      "Data columns (total 17 columns):\n",
      " #   Column            Non-Null Count  Dtype         \n",
      "---  ------            --------------  -----         \n",
      " 0   show_id           1704 non-null   int64         \n",
      " 1   type              1704 non-null   object        \n",
      " 2   title             1704 non-null   object        \n",
      " 3   director          1704 non-null   object        \n",
      " 4   date_added        1704 non-null   datetime64[ns]\n",
      " 5   release_year      1704 non-null   int64         \n",
      " 6   rating            1704 non-null   object        \n",
      " 7   description_net   1704 non-null   object        \n",
      " 8   imdb_title_id     1704 non-null   object        \n",
      " 9   genre             1704 non-null   object        \n",
      " 10  duration_imdb     1704 non-null   int64         \n",
      " 11  country_imdb      1704 non-null   object        \n",
      " 12  language          1704 non-null   object        \n",
      " 13  actors            1704 non-null   object        \n",
      " 14  description_imdb  1704 non-null   object        \n",
      " 15  avg_vote          1704 non-null   float64       \n",
      " 16  votes             1704 non-null   int64         \n",
      "dtypes: datetime64[ns](1), float64(1), int64(4), object(11)\n",
      "memory usage: 239.6+ KB\n"
     ]
    }
   ],
   "source": [
    "# manual checking shows that the original title data is not important\n",
    "# ex: combined_movie_df.iloc[664 , : ]\n",
    "#cut the original title column\n",
    "#genre and listed_in information is the same, so cut listed_in\n",
    "combined_movie_df = combined_movie_df[['show_id', \n",
    "'type', 'title', 'director','date_added', 'release_year', 'rating', 'description_net', 'imdb_title_id',\n",
    "'genre', 'duration_imdb', 'country_imdb', 'language',\n",
    "'actors', 'description_imdb', 'avg_vote','votes']].copy()\n",
    "combined_movie_df.info()"
   ]
  },
  {
   "cell_type": "code",
   "execution_count": 45,
   "metadata": {},
   "outputs": [
    {
     "name": "stdout",
     "output_type": "stream",
     "text": [
      "<class 'pandas.core.frame.DataFrame'>\n",
      "Int64Index: 1704 entries, 0 to 1714\n",
      "Data columns (total 17 columns):\n",
      " #   Column            Non-Null Count  Dtype         \n",
      "---  ------            --------------  -----         \n",
      " 0   show_id           1704 non-null   int64         \n",
      " 1   type              1704 non-null   object        \n",
      " 2   title             1704 non-null   object        \n",
      " 3   director          1704 non-null   object        \n",
      " 4   date_added        1704 non-null   datetime64[ns]\n",
      " 5   release_year      1704 non-null   int64         \n",
      " 6   rating            1704 non-null   object        \n",
      " 7   description_net   1704 non-null   object        \n",
      " 8   imdb_title_id     1704 non-null   object        \n",
      " 9   genre             1704 non-null   object        \n",
      " 10  duration_imdb     1704 non-null   int64         \n",
      " 11  country_imdb      1704 non-null   object        \n",
      " 12  language          1704 non-null   object        \n",
      " 13  actors            1704 non-null   object        \n",
      " 14  description_imdb  1704 non-null   object        \n",
      " 15  avg_vote          1704 non-null   float64       \n",
      " 16  votes             1704 non-null   int64         \n",
      "dtypes: datetime64[ns](1), float64(1), int64(4), object(11)\n",
      "memory usage: 239.6+ KB\n"
     ]
    }
   ],
   "source": [
    "combined_movie_df['date_added']= pd.to_datetime(combined_movie_df['date_added'])\n",
    "combined_movie_df.info()"
   ]
  },
  {
   "cell_type": "code",
   "execution_count": 52,
   "metadata": {},
   "outputs": [
    {
     "data": {
      "text/html": [
       "<div>\n",
       "<style scoped>\n",
       "    .dataframe tbody tr th:only-of-type {\n",
       "        vertical-align: middle;\n",
       "    }\n",
       "\n",
       "    .dataframe tbody tr th {\n",
       "        vertical-align: top;\n",
       "    }\n",
       "\n",
       "    .dataframe thead th {\n",
       "        text-align: right;\n",
       "    }\n",
       "</style>\n",
       "<table border=\"1\" class=\"dataframe\">\n",
       "  <thead>\n",
       "    <tr style=\"text-align: right;\">\n",
       "      <th></th>\n",
       "      <th>show_id</th>\n",
       "      <th>imdb_title_id</th>\n",
       "      <th>title</th>\n",
       "      <th>genre</th>\n",
       "      <th>duration_imdb</th>\n",
       "      <th>director</th>\n",
       "      <th>actors</th>\n",
       "      <th>release_year</th>\n",
       "      <th>rating</th>\n",
       "      <th>description_net</th>\n",
       "      <th>description_imdb</th>\n",
       "      <th>country_imdb</th>\n",
       "      <th>language</th>\n",
       "      <th>date_added</th>\n",
       "      <th>avg_vote</th>\n",
       "      <th>votes</th>\n",
       "    </tr>\n",
       "  </thead>\n",
       "  <tbody>\n",
       "    <tr>\n",
       "      <th>0</th>\n",
       "      <td>81145628</td>\n",
       "      <td>tt9428190</td>\n",
       "      <td>Norm of the North: King Sized Adventure</td>\n",
       "      <td>Animation, Adventure, Comedy</td>\n",
       "      <td>90</td>\n",
       "      <td>Richard Finn, Tim Maltby</td>\n",
       "      <td>Jennifer Cameron, Brian Dobson, Michael Dobson...</td>\n",
       "      <td>2019</td>\n",
       "      <td>TV-PG</td>\n",
       "      <td>Before planning an awesome wedding for his gra...</td>\n",
       "      <td>An ancient Chinese artifact has been stolen by...</td>\n",
       "      <td>USA, India, South Korea, China</td>\n",
       "      <td>English</td>\n",
       "      <td>2019-09-09</td>\n",
       "      <td>3.2</td>\n",
       "      <td>185</td>\n",
       "    </tr>\n",
       "    <tr>\n",
       "      <th>1</th>\n",
       "      <td>70304990</td>\n",
       "      <td>tt1361318</td>\n",
       "      <td>Good People</td>\n",
       "      <td>Action, Crime, Thriller</td>\n",
       "      <td>90</td>\n",
       "      <td>Henrik Ruben Genz</td>\n",
       "      <td>Sam Spruell, Michael Fox, Diarmaid Murtagh, Fr...</td>\n",
       "      <td>2014</td>\n",
       "      <td>R</td>\n",
       "      <td>A struggling couple can't believe their luck w...</td>\n",
       "      <td>Discovering a stash of cash in their dead tena...</td>\n",
       "      <td>USA, UK, Denmark, Sweden</td>\n",
       "      <td>English</td>\n",
       "      <td>2017-09-08</td>\n",
       "      <td>5.5</td>\n",
       "      <td>14655</td>\n",
       "    </tr>\n",
       "    <tr>\n",
       "      <th>2</th>\n",
       "      <td>70299204</td>\n",
       "      <td>tt2917388</td>\n",
       "      <td>Kidnapping Mr. Heineken</td>\n",
       "      <td>Action, Crime, Drama</td>\n",
       "      <td>95</td>\n",
       "      <td>Daniel Alfredson</td>\n",
       "      <td>Jim Sturgess, Sam Worthington, Ryan Kwanten, A...</td>\n",
       "      <td>2015</td>\n",
       "      <td>R</td>\n",
       "      <td>When beer magnate Alfred \"Freddy\" Heineken is ...</td>\n",
       "      <td>The inside story of the planning, execution, r...</td>\n",
       "      <td>Netherlands, Belgium, UK, USA</td>\n",
       "      <td>English, Dutch, German</td>\n",
       "      <td>2017-09-08</td>\n",
       "      <td>6.1</td>\n",
       "      <td>18168</td>\n",
       "    </tr>\n",
       "    <tr>\n",
       "      <th>3</th>\n",
       "      <td>80057969</td>\n",
       "      <td>tt3774694</td>\n",
       "      <td>Love</td>\n",
       "      <td>Drama, Romance</td>\n",
       "      <td>135</td>\n",
       "      <td>Gaspar Noé</td>\n",
       "      <td>Aomi Muyock, Karl Glusman, Klara Kristin, Ugo ...</td>\n",
       "      <td>2015</td>\n",
       "      <td>NR</td>\n",
       "      <td>A man in an unsatisfying marriage recalls the ...</td>\n",
       "      <td>Murphy is an American living in Paris who ente...</td>\n",
       "      <td>France, Belgium</td>\n",
       "      <td>English, French</td>\n",
       "      <td>2017-09-08</td>\n",
       "      <td>6.1</td>\n",
       "      <td>39385</td>\n",
       "    </tr>\n",
       "    <tr>\n",
       "      <th>4</th>\n",
       "      <td>80046728</td>\n",
       "      <td>tt2718440</td>\n",
       "      <td>Moonwalkers</td>\n",
       "      <td>Action, Comedy</td>\n",
       "      <td>107</td>\n",
       "      <td>Antoine Bardou-Jacquet</td>\n",
       "      <td>Rupert Grint, Ron Perlman, Robert Sheehan, Ste...</td>\n",
       "      <td>2015</td>\n",
       "      <td>R</td>\n",
       "      <td>A brain-addled war vet, a failing band manager...</td>\n",
       "      <td>After failing to locate the legendary</td>\n",
       "      <td>France, Belgium</td>\n",
       "      <td>English</td>\n",
       "      <td>2017-09-08</td>\n",
       "      <td>6.1</td>\n",
       "      <td>7963</td>\n",
       "    </tr>\n",
       "  </tbody>\n",
       "</table>\n",
       "</div>"
      ],
      "text/plain": [
       "    show_id imdb_title_id                                    title  \\\n",
       "0  81145628     tt9428190  Norm of the North: King Sized Adventure   \n",
       "1  70304990     tt1361318                              Good People   \n",
       "2  70299204     tt2917388                  Kidnapping Mr. Heineken   \n",
       "3  80057969     tt3774694                                     Love   \n",
       "4  80046728     tt2718440                              Moonwalkers   \n",
       "\n",
       "                          genre  duration_imdb                  director  \\\n",
       "0  Animation, Adventure, Comedy             90  Richard Finn, Tim Maltby   \n",
       "1       Action, Crime, Thriller             90         Henrik Ruben Genz   \n",
       "2          Action, Crime, Drama             95          Daniel Alfredson   \n",
       "3                Drama, Romance            135                Gaspar Noé   \n",
       "4                Action, Comedy            107    Antoine Bardou-Jacquet   \n",
       "\n",
       "                                              actors  release_year rating  \\\n",
       "0  Jennifer Cameron, Brian Dobson, Michael Dobson...          2019  TV-PG   \n",
       "1  Sam Spruell, Michael Fox, Diarmaid Murtagh, Fr...          2014      R   \n",
       "2  Jim Sturgess, Sam Worthington, Ryan Kwanten, A...          2015      R   \n",
       "3  Aomi Muyock, Karl Glusman, Klara Kristin, Ugo ...          2015     NR   \n",
       "4  Rupert Grint, Ron Perlman, Robert Sheehan, Ste...          2015      R   \n",
       "\n",
       "                                     description_net  \\\n",
       "0  Before planning an awesome wedding for his gra...   \n",
       "1  A struggling couple can't believe their luck w...   \n",
       "2  When beer magnate Alfred \"Freddy\" Heineken is ...   \n",
       "3  A man in an unsatisfying marriage recalls the ...   \n",
       "4  A brain-addled war vet, a failing band manager...   \n",
       "\n",
       "                                    description_imdb  \\\n",
       "0  An ancient Chinese artifact has been stolen by...   \n",
       "1  Discovering a stash of cash in their dead tena...   \n",
       "2  The inside story of the planning, execution, r...   \n",
       "3  Murphy is an American living in Paris who ente...   \n",
       "4              After failing to locate the legendary   \n",
       "\n",
       "                     country_imdb                language date_added  \\\n",
       "0  USA, India, South Korea, China                 English 2019-09-09   \n",
       "1        USA, UK, Denmark, Sweden                 English 2017-09-08   \n",
       "2   Netherlands, Belgium, UK, USA  English, Dutch, German 2017-09-08   \n",
       "3                 France, Belgium         English, French 2017-09-08   \n",
       "4                 France, Belgium                 English 2017-09-08   \n",
       "\n",
       "   avg_vote  votes  \n",
       "0       3.2    185  \n",
       "1       5.5  14655  \n",
       "2       6.1  18168  \n",
       "3       6.1  39385  \n",
       "4       6.1   7963  "
      ]
     },
     "execution_count": 52,
     "metadata": {},
     "output_type": "execute_result"
    }
   ],
   "source": [
    "#rearrange the columns to place important information first\n",
    "# remove type as they are all movies\n",
    "combined_movie_df = combined_movie_df[['show_id', 'imdb_title_id', 'title','genre', 'duration_imdb',  'director', 'actors',\n",
    "'release_year', 'rating', 'description_net', 'description_imdb', \n",
    " 'country_imdb', 'language','date_added','avg_vote','votes']].copy()\n"
   ]
  },
  {
   "cell_type": "code",
   "execution_count": 54,
   "metadata": {},
   "outputs": [
    {
     "name": "stdout",
     "output_type": "stream",
     "text": [
      "<class 'pandas.core.frame.DataFrame'>\n",
      "Int64Index: 1704 entries, 0 to 1714\n",
      "Data columns (total 16 columns):\n",
      " #   Column            Non-Null Count  Dtype         \n",
      "---  ------            --------------  -----         \n",
      " 0   netflix_id        1704 non-null   int64         \n",
      " 1   imdb_id           1704 non-null   object        \n",
      " 2   title             1704 non-null   object        \n",
      " 3   genre             1704 non-null   object        \n",
      " 4   duration          1704 non-null   int64         \n",
      " 5   director          1704 non-null   object        \n",
      " 6   actors            1704 non-null   object        \n",
      " 7   release_year      1704 non-null   int64         \n",
      " 8   rating            1704 non-null   object        \n",
      " 9   description_net   1704 non-null   object        \n",
      " 10  description_imdb  1704 non-null   object        \n",
      " 11  country           1704 non-null   object        \n",
      " 12  language          1704 non-null   object        \n",
      " 13  date_added        1704 non-null   datetime64[ns]\n",
      " 14  avg_vote          1704 non-null   float64       \n",
      " 15  votes             1704 non-null   int64         \n",
      "dtypes: datetime64[ns](1), float64(1), int64(4), object(10)\n",
      "memory usage: 226.3+ KB\n"
     ]
    }
   ],
   "source": [
    "#rename the columns\n",
    "final_movie_df = combined_movie_df.rename(columns={\"show_id\": \"netflix_id\", \n",
    "    \"imdb_title_id\": \"imdb_id\", \"duration_imdb\":\"duration\",\n",
    "    \"country_imdb\": \"country\"})\n",
    "final_movie_df.info()"
   ]
  },
  {
   "cell_type": "code",
   "execution_count": null,
   "metadata": {},
   "outputs": [],
   "source": []
  },
  {
   "cell_type": "code",
   "execution_count": null,
   "metadata": {},
   "outputs": [],
   "source": [
    "# if we need to find additional data we can use this package\n",
    "# pip install imdbpy"
   ]
  },
  {
   "cell_type": "code",
   "execution_count": null,
   "metadata": {},
   "outputs": [],
   "source": []
  },
  {
   "cell_type": "code",
   "execution_count": null,
   "metadata": {},
   "outputs": [],
   "source": []
  },
  {
   "cell_type": "code",
   "execution_count": null,
   "metadata": {},
   "outputs": [],
   "source": []
  },
  {
   "cell_type": "code",
   "execution_count": null,
   "metadata": {},
   "outputs": [],
   "source": []
  },
  {
   "cell_type": "code",
   "execution_count": null,
   "metadata": {},
   "outputs": [],
   "source": []
  },
  {
   "cell_type": "code",
   "execution_count": null,
   "metadata": {},
   "outputs": [],
   "source": [
    "\n"
   ]
  },
  {
   "cell_type": "code",
   "execution_count": null,
   "metadata": {},
   "outputs": [],
   "source": []
  },
  {
   "cell_type": "code",
   "execution_count": null,
   "metadata": {},
   "outputs": [],
   "source": []
  },
  {
   "cell_type": "code",
   "execution_count": null,
   "metadata": {},
   "outputs": [],
   "source": []
  },
  {
   "cell_type": "code",
   "execution_count": null,
   "metadata": {},
   "outputs": [],
   "source": []
  },
  {
   "cell_type": "code",
   "execution_count": null,
   "metadata": {},
   "outputs": [],
   "source": []
  },
  {
   "cell_type": "code",
   "execution_count": null,
   "metadata": {},
   "outputs": [],
   "source": []
  },
  {
   "cell_type": "code",
   "execution_count": null,
   "metadata": {},
   "outputs": [],
   "source": []
  },
  {
   "cell_type": "markdown",
   "metadata": {},
   "source": [
    "### Transform premise DataFrame"
   ]
  },
  {
   "cell_type": "markdown",
   "metadata": {},
   "source": [
    "### Transform county DataFrame"
   ]
  },
  {
   "cell_type": "markdown",
   "metadata": {},
   "source": [
    "### Create database connection"
   ]
  },
  {
   "cell_type": "markdown",
   "metadata": {},
   "source": [
    "### Load DataFrames into database"
   ]
  },
  {
   "cell_type": "code",
   "execution_count": null,
   "metadata": {},
   "outputs": [],
   "source": []
  },
  {
   "cell_type": "code",
   "execution_count": null,
   "metadata": {},
   "outputs": [],
   "source": []
  }
 ],
 "metadata": {
  "kernelspec": {
   "display_name": "Python 3",
   "language": "python",
   "name": "python3"
  },
  "language_info": {
   "codemirror_mode": {
    "name": "ipython",
    "version": 3
   },
   "file_extension": ".py",
   "mimetype": "text/x-python",
   "name": "python",
   "nbconvert_exporter": "python",
   "pygments_lexer": "ipython3",
   "version": "3.7.6"
  }
 },
 "nbformat": 4,
 "nbformat_minor": 2
}
