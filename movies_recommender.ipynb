{
 "cells": [
  {
   "cell_type": "code",
   "execution_count": null,
   "metadata": {},
   "outputs": [],
   "source": [
    "# Movie recommender for the netflix data. Recommneds based on \n",
    "# keyword similarities. treats people(director and cast) as a single word token\n",
    "# Try to get more plot description to improve accurracy\n",
    "# May want to bump up the director/cast in the ratings\n",
    "\n",
    "! pip install rake-nltk\n",
    "\n"
   ]
  },
  {
   "cell_type": "code",
   "execution_count": 1,
   "metadata": {},
   "outputs": [],
   "source": [
    "import pandas as pd\n",
    "from sqlalchemy import create_engine\n",
    "import pandas as pd\n",
    "from rake_nltk import Rake\n",
    "import numpy as np\n",
    "from sklearn.metrics.pairwise import cosine_similarity\n",
    "from sklearn.feature_extraction.text import CountVectorizer"
   ]
  },
  {
   "cell_type": "markdown",
   "metadata": {},
   "source": [
    "### Extract CSVs into DataFrames"
   ]
  },
  {
   "cell_type": "code",
   "execution_count": 14,
   "metadata": {},
   "outputs": [
    {
     "data": {
      "text/html": [
       "<div>\n",
       "<style scoped>\n",
       "    .dataframe tbody tr th:only-of-type {\n",
       "        vertical-align: middle;\n",
       "    }\n",
       "\n",
       "    .dataframe tbody tr th {\n",
       "        vertical-align: top;\n",
       "    }\n",
       "\n",
       "    .dataframe thead th {\n",
       "        text-align: right;\n",
       "    }\n",
       "</style>\n",
       "<table border=\"1\" class=\"dataframe\">\n",
       "  <thead>\n",
       "    <tr style=\"text-align: right;\">\n",
       "      <th></th>\n",
       "      <th>show_id</th>\n",
       "      <th>type</th>\n",
       "      <th>title</th>\n",
       "      <th>director</th>\n",
       "      <th>cast</th>\n",
       "      <th>country</th>\n",
       "      <th>date_added</th>\n",
       "      <th>release_year</th>\n",
       "      <th>rating</th>\n",
       "      <th>duration</th>\n",
       "      <th>listed_in</th>\n",
       "      <th>description</th>\n",
       "    </tr>\n",
       "  </thead>\n",
       "  <tbody>\n",
       "    <tr>\n",
       "      <th>0</th>\n",
       "      <td>81145628</td>\n",
       "      <td>Movie</td>\n",
       "      <td>Norm of the North: King Sized Adventure</td>\n",
       "      <td>Richard Finn, Tim Maltby</td>\n",
       "      <td>Alan Marriott, Andrew Toth, Brian Dobson, Cole...</td>\n",
       "      <td>United States, India, South Korea, China</td>\n",
       "      <td>September 9, 2019</td>\n",
       "      <td>2019</td>\n",
       "      <td>TV-PG</td>\n",
       "      <td>90 min</td>\n",
       "      <td>Children &amp; Family Movies, Comedies</td>\n",
       "      <td>Before planning an awesome wedding for his gra...</td>\n",
       "    </tr>\n",
       "    <tr>\n",
       "      <th>1</th>\n",
       "      <td>80117401</td>\n",
       "      <td>Movie</td>\n",
       "      <td>Jandino: Whatever it Takes</td>\n",
       "      <td>NaN</td>\n",
       "      <td>Jandino Asporaat</td>\n",
       "      <td>United Kingdom</td>\n",
       "      <td>September 9, 2016</td>\n",
       "      <td>2016</td>\n",
       "      <td>TV-MA</td>\n",
       "      <td>94 min</td>\n",
       "      <td>Stand-Up Comedy</td>\n",
       "      <td>Jandino Asporaat riffs on the challenges of ra...</td>\n",
       "    </tr>\n",
       "    <tr>\n",
       "      <th>2</th>\n",
       "      <td>70234439</td>\n",
       "      <td>TV Show</td>\n",
       "      <td>Transformers Prime</td>\n",
       "      <td>NaN</td>\n",
       "      <td>Peter Cullen, Sumalee Montano, Frank Welker, J...</td>\n",
       "      <td>United States</td>\n",
       "      <td>September 8, 2018</td>\n",
       "      <td>2013</td>\n",
       "      <td>TV-Y7-FV</td>\n",
       "      <td>1 Season</td>\n",
       "      <td>Kids' TV</td>\n",
       "      <td>With the help of three human allies, the Autob...</td>\n",
       "    </tr>\n",
       "    <tr>\n",
       "      <th>3</th>\n",
       "      <td>80058654</td>\n",
       "      <td>TV Show</td>\n",
       "      <td>Transformers: Robots in Disguise</td>\n",
       "      <td>NaN</td>\n",
       "      <td>Will Friedle, Darren Criss, Constance Zimmer, ...</td>\n",
       "      <td>United States</td>\n",
       "      <td>September 8, 2018</td>\n",
       "      <td>2016</td>\n",
       "      <td>TV-Y7</td>\n",
       "      <td>1 Season</td>\n",
       "      <td>Kids' TV</td>\n",
       "      <td>When a prison ship crash unleashes hundreds of...</td>\n",
       "    </tr>\n",
       "    <tr>\n",
       "      <th>4</th>\n",
       "      <td>80125979</td>\n",
       "      <td>Movie</td>\n",
       "      <td>#realityhigh</td>\n",
       "      <td>Fernando Lebrija</td>\n",
       "      <td>Nesta Cooper, Kate Walsh, John Michael Higgins...</td>\n",
       "      <td>United States</td>\n",
       "      <td>September 8, 2017</td>\n",
       "      <td>2017</td>\n",
       "      <td>TV-14</td>\n",
       "      <td>99 min</td>\n",
       "      <td>Comedies</td>\n",
       "      <td>When nerdy high schooler Dani finally attracts...</td>\n",
       "    </tr>\n",
       "  </tbody>\n",
       "</table>\n",
       "</div>"
      ],
      "text/plain": [
       "    show_id     type                                    title  \\\n",
       "0  81145628    Movie  Norm of the North: King Sized Adventure   \n",
       "1  80117401    Movie               Jandino: Whatever it Takes   \n",
       "2  70234439  TV Show                       Transformers Prime   \n",
       "3  80058654  TV Show         Transformers: Robots in Disguise   \n",
       "4  80125979    Movie                             #realityhigh   \n",
       "\n",
       "                   director  \\\n",
       "0  Richard Finn, Tim Maltby   \n",
       "1                       NaN   \n",
       "2                       NaN   \n",
       "3                       NaN   \n",
       "4          Fernando Lebrija   \n",
       "\n",
       "                                                cast  \\\n",
       "0  Alan Marriott, Andrew Toth, Brian Dobson, Cole...   \n",
       "1                                   Jandino Asporaat   \n",
       "2  Peter Cullen, Sumalee Montano, Frank Welker, J...   \n",
       "3  Will Friedle, Darren Criss, Constance Zimmer, ...   \n",
       "4  Nesta Cooper, Kate Walsh, John Michael Higgins...   \n",
       "\n",
       "                                    country         date_added  release_year  \\\n",
       "0  United States, India, South Korea, China  September 9, 2019          2019   \n",
       "1                            United Kingdom  September 9, 2016          2016   \n",
       "2                             United States  September 8, 2018          2013   \n",
       "3                             United States  September 8, 2018          2016   \n",
       "4                             United States  September 8, 2017          2017   \n",
       "\n",
       "     rating  duration                           listed_in  \\\n",
       "0     TV-PG    90 min  Children & Family Movies, Comedies   \n",
       "1     TV-MA    94 min                     Stand-Up Comedy   \n",
       "2  TV-Y7-FV  1 Season                            Kids' TV   \n",
       "3     TV-Y7  1 Season                            Kids' TV   \n",
       "4     TV-14    99 min                            Comedies   \n",
       "\n",
       "                                         description  \n",
       "0  Before planning an awesome wedding for his gra...  \n",
       "1  Jandino Asporaat riffs on the challenges of ra...  \n",
       "2  With the help of three human allies, the Autob...  \n",
       "3  When a prison ship crash unleashes hundreds of...  \n",
       "4  When nerdy high schooler Dani finally attracts...  "
      ]
     },
     "execution_count": 14,
     "metadata": {},
     "output_type": "execute_result"
    }
   ],
   "source": [
    "#create a file from the netflix data\n",
    "netflix_file = \"netflix_titles.csv\"\n",
    "netflix_df = pd.read_csv(netflix_file)\n",
    "netflix_df.head()\n",
    "\n"
   ]
  },
  {
   "cell_type": "code",
   "execution_count": 15,
   "metadata": {},
   "outputs": [
    {
     "data": {
      "text/html": [
       "<div>\n",
       "<style scoped>\n",
       "    .dataframe tbody tr th:only-of-type {\n",
       "        vertical-align: middle;\n",
       "    }\n",
       "\n",
       "    .dataframe tbody tr th {\n",
       "        vertical-align: top;\n",
       "    }\n",
       "\n",
       "    .dataframe thead th {\n",
       "        text-align: right;\n",
       "    }\n",
       "</style>\n",
       "<table border=\"1\" class=\"dataframe\">\n",
       "  <thead>\n",
       "    <tr style=\"text-align: right;\">\n",
       "      <th></th>\n",
       "      <th>show_id</th>\n",
       "      <th>type</th>\n",
       "      <th>title</th>\n",
       "      <th>director</th>\n",
       "      <th>cast</th>\n",
       "      <th>country</th>\n",
       "      <th>date_added</th>\n",
       "      <th>release_year</th>\n",
       "      <th>rating</th>\n",
       "      <th>duration</th>\n",
       "      <th>listed_in</th>\n",
       "      <th>description</th>\n",
       "    </tr>\n",
       "  </thead>\n",
       "  <tbody>\n",
       "    <tr>\n",
       "      <th>0</th>\n",
       "      <td>81145628</td>\n",
       "      <td>Movie</td>\n",
       "      <td>Norm of the North: King Sized Adventure</td>\n",
       "      <td>richardfinn,timmaltby</td>\n",
       "      <td>alanmarriott,andrewtoth,briandobson,colehoward...</td>\n",
       "      <td>United States, India, South Korea, China</td>\n",
       "      <td>September 9, 2019</td>\n",
       "      <td>2019</td>\n",
       "      <td>TV-PG</td>\n",
       "      <td>90 min</td>\n",
       "      <td>Children &amp; Family Movies, Comedies</td>\n",
       "      <td>Before planning an awesome wedding for his gra...</td>\n",
       "    </tr>\n",
       "    <tr>\n",
       "      <th>1</th>\n",
       "      <td>80117401</td>\n",
       "      <td>Movie</td>\n",
       "      <td>Jandino: Whatever it Takes</td>\n",
       "      <td>NaN</td>\n",
       "      <td>jandinoasporaat</td>\n",
       "      <td>United Kingdom</td>\n",
       "      <td>September 9, 2016</td>\n",
       "      <td>2016</td>\n",
       "      <td>TV-MA</td>\n",
       "      <td>94 min</td>\n",
       "      <td>Stand-Up Comedy</td>\n",
       "      <td>Jandino Asporaat riffs on the challenges of ra...</td>\n",
       "    </tr>\n",
       "    <tr>\n",
       "      <th>2</th>\n",
       "      <td>70234439</td>\n",
       "      <td>TV Show</td>\n",
       "      <td>Transformers Prime</td>\n",
       "      <td>NaN</td>\n",
       "      <td>petercullen,sumaleemontano,frankwelker,jeffrey...</td>\n",
       "      <td>United States</td>\n",
       "      <td>September 8, 2018</td>\n",
       "      <td>2013</td>\n",
       "      <td>TV-Y7-FV</td>\n",
       "      <td>1 Season</td>\n",
       "      <td>Kids' TV</td>\n",
       "      <td>With the help of three human allies, the Autob...</td>\n",
       "    </tr>\n",
       "    <tr>\n",
       "      <th>3</th>\n",
       "      <td>80058654</td>\n",
       "      <td>TV Show</td>\n",
       "      <td>Transformers: Robots in Disguise</td>\n",
       "      <td>NaN</td>\n",
       "      <td>willfriedle,darrencriss,constancezimmer,kharyp...</td>\n",
       "      <td>United States</td>\n",
       "      <td>September 8, 2018</td>\n",
       "      <td>2016</td>\n",
       "      <td>TV-Y7</td>\n",
       "      <td>1 Season</td>\n",
       "      <td>Kids' TV</td>\n",
       "      <td>When a prison ship crash unleashes hundreds of...</td>\n",
       "    </tr>\n",
       "    <tr>\n",
       "      <th>4</th>\n",
       "      <td>80125979</td>\n",
       "      <td>Movie</td>\n",
       "      <td>#realityhigh</td>\n",
       "      <td>fernandolebrija</td>\n",
       "      <td>nestacooper,katewalsh,johnmichaelhiggins,keith...</td>\n",
       "      <td>United States</td>\n",
       "      <td>September 8, 2017</td>\n",
       "      <td>2017</td>\n",
       "      <td>TV-14</td>\n",
       "      <td>99 min</td>\n",
       "      <td>Comedies</td>\n",
       "      <td>When nerdy high schooler Dani finally attracts...</td>\n",
       "    </tr>\n",
       "  </tbody>\n",
       "</table>\n",
       "</div>"
      ],
      "text/plain": [
       "    show_id     type                                    title  \\\n",
       "0  81145628    Movie  Norm of the North: King Sized Adventure   \n",
       "1  80117401    Movie               Jandino: Whatever it Takes   \n",
       "2  70234439  TV Show                       Transformers Prime   \n",
       "3  80058654  TV Show         Transformers: Robots in Disguise   \n",
       "4  80125979    Movie                             #realityhigh   \n",
       "\n",
       "                director                                               cast  \\\n",
       "0  richardfinn,timmaltby  alanmarriott,andrewtoth,briandobson,colehoward...   \n",
       "1                    NaN                                    jandinoasporaat   \n",
       "2                    NaN  petercullen,sumaleemontano,frankwelker,jeffrey...   \n",
       "3                    NaN  willfriedle,darrencriss,constancezimmer,kharyp...   \n",
       "4        fernandolebrija  nestacooper,katewalsh,johnmichaelhiggins,keith...   \n",
       "\n",
       "                                    country         date_added  release_year  \\\n",
       "0  United States, India, South Korea, China  September 9, 2019          2019   \n",
       "1                            United Kingdom  September 9, 2016          2016   \n",
       "2                             United States  September 8, 2018          2013   \n",
       "3                             United States  September 8, 2018          2016   \n",
       "4                             United States  September 8, 2017          2017   \n",
       "\n",
       "     rating  duration                           listed_in  \\\n",
       "0     TV-PG    90 min  Children & Family Movies, Comedies   \n",
       "1     TV-MA    94 min                     Stand-Up Comedy   \n",
       "2  TV-Y7-FV  1 Season                            Kids' TV   \n",
       "3     TV-Y7  1 Season                            Kids' TV   \n",
       "4     TV-14    99 min                            Comedies   \n",
       "\n",
       "                                         description  \n",
       "0  Before planning an awesome wedding for his gra...  \n",
       "1  Jandino Asporaat riffs on the challenges of ra...  \n",
       "2  With the help of three human allies, the Autob...  \n",
       "3  When a prison ship crash unleashes hundreds of...  \n",
       "4  When nerdy high schooler Dani finally attracts...  "
      ]
     },
     "execution_count": 15,
     "metadata": {},
     "output_type": "execute_result"
    }
   ],
   "source": [
    "# turn director and names into lowercase, single words to avoid mixing similar names\n",
    "netflix_df['director'] = netflix_df['director'].str.lower()\n",
    "netflix_df['cast'] = netflix_df['cast'].str.lower()\n",
    "netflix_df['director'] = netflix_df['director'].str.replace(\" \",\"\")\n",
    "netflix_df['cast'] = netflix_df['cast'].str.replace(\" \",\"\")\n",
    "netflix_df.head()"
   ]
  },
  {
   "cell_type": "code",
   "execution_count": 18,
   "metadata": {},
   "outputs": [
    {
     "data": {
      "text/plain": [
       "Movie      4265\n",
       "TV Show    1969\n",
       "Name: type, dtype: int64"
      ]
     },
     "execution_count": 18,
     "metadata": {},
     "output_type": "execute_result"
    }
   ],
   "source": [
    "netflix_df['type'].value_counts()"
   ]
  },
  {
   "cell_type": "code",
   "execution_count": 17,
   "metadata": {},
   "outputs": [
    {
     "data": {
      "text/plain": [
       "Movie      4265\n",
       "TV Show    1969\n",
       "Name: type, dtype: int64"
      ]
     },
     "execution_count": 17,
     "metadata": {},
     "output_type": "execute_result"
    }
   ],
   "source": [
    "#checking for duplicates and checking the total data\n",
    "netflix_df.drop_duplicates()\n",
    "netflix_df['type'].value_counts()"
   ]
  },
  {
   "cell_type": "code",
   "execution_count": 20,
   "metadata": {},
   "outputs": [],
   "source": [
    "# Take the key words from the plot description\n",
    "\n",
    "# initializing the new column\n",
    "netflix_df['Key_words'] = \"\"\n",
    "\n",
    "for index, row in netflix_df.iterrows():\n",
    "    plot = row['description']\n",
    "    \n",
    "    # instantiating Rake, by default it uses english stopwords from NLTK\n",
    "    # and discards all puntuation characters as well\n",
    "    r = Rake()\n",
    "\n",
    "    r.extract_keywords_from_text(plot)\n",
    "    words = r.get_ranked_phrases()\n",
    "    # extracting the words by passing the text\n",
    "    # getting the dictionary whith key words as keys and their scores as values\n",
    "#     key_words_dict_scores = r.get_word_degrees()\n",
    "    netflix_df.loc[index,'Key_words']=str(words)"
   ]
  },
  {
   "cell_type": "code",
   "execution_count": 21,
   "metadata": {},
   "outputs": [],
   "source": [
    "# create a short dataframe that's easier to work with\n",
    "short_df = netflix_df[[\"Key_words\",\"title\",\"director\",\"cast\"]]\n",
    "# get rid of NaN\n",
    "netflix_df = short_df.replace(np.nan, '', regex=True)"
   ]
  },
  {
   "cell_type": "code",
   "execution_count": 22,
   "metadata": {},
   "outputs": [
    {
     "data": {
      "text/html": [
       "<div>\n",
       "<style scoped>\n",
       "    .dataframe tbody tr th:only-of-type {\n",
       "        vertical-align: middle;\n",
       "    }\n",
       "\n",
       "    .dataframe tbody tr th {\n",
       "        vertical-align: top;\n",
       "    }\n",
       "\n",
       "    .dataframe thead th {\n",
       "        text-align: right;\n",
       "    }\n",
       "</style>\n",
       "<table border=\"1\" class=\"dataframe\">\n",
       "  <thead>\n",
       "    <tr style=\"text-align: right;\">\n",
       "      <th></th>\n",
       "      <th>Key_words</th>\n",
       "      <th>title</th>\n",
       "      <th>director</th>\n",
       "      <th>cast</th>\n",
       "    </tr>\n",
       "  </thead>\n",
       "  <tbody>\n",
       "    <tr>\n",
       "      <th>0</th>\n",
       "      <td>polar bear king must take back, evil archaeolo...</td>\n",
       "      <td>Norm of the North: King Sized Adventure</td>\n",
       "      <td>richardfinn,timmaltby</td>\n",
       "      <td>alanmarriott,andrewtoth,briandobson,colehoward...</td>\n",
       "    </tr>\n",
       "    <tr>\n",
       "      <th>1</th>\n",
       "      <td>jandino asporaat riffs, rousing rendition, rai...</td>\n",
       "      <td>Jandino: Whatever it Takes</td>\n",
       "      <td></td>\n",
       "      <td>jandinoasporaat</td>\n",
       "    </tr>\n",
       "    <tr>\n",
       "      <th>2</th>\n",
       "      <td>three human allies, protect earth, onslaught, ...</td>\n",
       "      <td>Transformers Prime</td>\n",
       "      <td></td>\n",
       "      <td>petercullen,sumaleemontano,frankwelker,jeffrey...</td>\n",
       "    </tr>\n",
       "    <tr>\n",
       "      <th>3</th>\n",
       "      <td>prison ship crash unleashes hundreds, new auto...</td>\n",
       "      <td>Transformers: Robots in Disguise</td>\n",
       "      <td></td>\n",
       "      <td>willfriedle,darrencriss,constancezimmer,kharyp...</td>\n",
       "    </tr>\n",
       "    <tr>\n",
       "      <th>4</th>\n",
       "      <td>nerdy high schooler dani finally attracts, soc...</td>\n",
       "      <td>#realityhigh</td>\n",
       "      <td>fernandolebrija</td>\n",
       "      <td>nestacooper,katewalsh,johnmichaelhiggins,keith...</td>\n",
       "    </tr>\n",
       "  </tbody>\n",
       "</table>\n",
       "</div>"
      ],
      "text/plain": [
       "                                           Key_words  \\\n",
       "0  polar bear king must take back, evil archaeolo...   \n",
       "1  jandino asporaat riffs, rousing rendition, rai...   \n",
       "2  three human allies, protect earth, onslaught, ...   \n",
       "3  prison ship crash unleashes hundreds, new auto...   \n",
       "4  nerdy high schooler dani finally attracts, soc...   \n",
       "\n",
       "                                     title               director  \\\n",
       "0  Norm of the North: King Sized Adventure  richardfinn,timmaltby   \n",
       "1               Jandino: Whatever it Takes                          \n",
       "2                       Transformers Prime                          \n",
       "3         Transformers: Robots in Disguise                          \n",
       "4                             #realityhigh        fernandolebrija   \n",
       "\n",
       "                                                cast  \n",
       "0  alanmarriott,andrewtoth,briandobson,colehoward...  \n",
       "1                                    jandinoasporaat  \n",
       "2  petercullen,sumaleemontano,frankwelker,jeffrey...  \n",
       "3  willfriedle,darrencriss,constancezimmer,kharyp...  \n",
       "4  nestacooper,katewalsh,johnmichaelhiggins,keith...  "
      ]
     },
     "execution_count": 22,
     "metadata": {},
     "output_type": "execute_result"
    }
   ],
   "source": [
    "# remove symbols from key words list\n",
    "netflix_df['Key_words'] = netflix_df['Key_words'].str.replace(\"[\",\"\")\n",
    "netflix_df['Key_words'] = netflix_df['Key_words'].str.replace(\"]\",\"\")\n",
    "netflix_df['Key_words'] = netflix_df['Key_words'].str.replace(\"'\",\"\")\n",
    "netflix_df.head()"
   ]
  },
  {
   "cell_type": "code",
   "execution_count": 23,
   "metadata": {},
   "outputs": [
    {
     "data": {
      "text/html": [
       "<div>\n",
       "<style scoped>\n",
       "    .dataframe tbody tr th:only-of-type {\n",
       "        vertical-align: middle;\n",
       "    }\n",
       "\n",
       "    .dataframe tbody tr th {\n",
       "        vertical-align: top;\n",
       "    }\n",
       "\n",
       "    .dataframe thead th {\n",
       "        text-align: right;\n",
       "    }\n",
       "</style>\n",
       "<table border=\"1\" class=\"dataframe\">\n",
       "  <thead>\n",
       "    <tr style=\"text-align: right;\">\n",
       "      <th></th>\n",
       "      <th>bag_of_words</th>\n",
       "    </tr>\n",
       "    <tr>\n",
       "      <th>title</th>\n",
       "      <th></th>\n",
       "    </tr>\n",
       "  </thead>\n",
       "  <tbody>\n",
       "    <tr>\n",
       "      <th>Norm of the North: King Sized Adventure</th>\n",
       "      <td>polar bear king must take back, evil archaeolo...</td>\n",
       "    </tr>\n",
       "    <tr>\n",
       "      <th>Jandino: Whatever it Takes</th>\n",
       "      <td>jandino asporaat riffs, rousing rendition, rai...</td>\n",
       "    </tr>\n",
       "    <tr>\n",
       "      <th>Transformers Prime</th>\n",
       "      <td>three human allies, protect earth, onslaught, ...</td>\n",
       "    </tr>\n",
       "    <tr>\n",
       "      <th>Transformers: Robots in Disguise</th>\n",
       "      <td>prison ship crash unleashes hundreds, new auto...</td>\n",
       "    </tr>\n",
       "    <tr>\n",
       "      <th>#realityhigh</th>\n",
       "      <td>nerdy high schooler dani finally attracts, soc...</td>\n",
       "    </tr>\n",
       "    <tr>\n",
       "      <th>...</th>\n",
       "      <td>...</td>\n",
       "    </tr>\n",
       "    <tr>\n",
       "      <th>Red vs. Blue</th>\n",
       "      <td>person shooter games, fiction films centers, c...</td>\n",
       "    </tr>\n",
       "    <tr>\n",
       "      <th>Maron</th>\n",
       "      <td>interviews fellow comedians, marc maron stars,...</td>\n",
       "    </tr>\n",
       "    <tr>\n",
       "      <th>Little Baby Bum: Nursery Rhyme Friends</th>\n",
       "      <td>playful animation engage, original music, nurs...</td>\n",
       "    </tr>\n",
       "    <tr>\n",
       "      <th>A Young Doctor's Notebook and Other Stories</th>\n",
       "      <td>early career working, way village, russian rev...</td>\n",
       "    </tr>\n",
       "    <tr>\n",
       "      <th>Friends</th>\n",
       "      <td>hit sitcom follows, something pals, six 20, me...</td>\n",
       "    </tr>\n",
       "  </tbody>\n",
       "</table>\n",
       "<p>6234 rows × 1 columns</p>\n",
       "</div>"
      ],
      "text/plain": [
       "                                                                                  bag_of_words\n",
       "title                                                                                         \n",
       "Norm of the North: King Sized Adventure      polar bear king must take back, evil archaeolo...\n",
       "Jandino: Whatever it Takes                   jandino asporaat riffs, rousing rendition, rai...\n",
       "Transformers Prime                           three human allies, protect earth, onslaught, ...\n",
       "Transformers: Robots in Disguise             prison ship crash unleashes hundreds, new auto...\n",
       "#realityhigh                                 nerdy high schooler dani finally attracts, soc...\n",
       "...                                                                                        ...\n",
       "Red vs. Blue                                 person shooter games, fiction films centers, c...\n",
       "Maron                                        interviews fellow comedians, marc maron stars,...\n",
       "Little Baby Bum: Nursery Rhyme Friends       playful animation engage, original music, nurs...\n",
       "A Young Doctor's Notebook and Other Stories  early career working, way village, russian rev...\n",
       "Friends                                      hit sitcom follows, something pals, six 20, me...\n",
       "\n",
       "[6234 rows x 1 columns]"
      ]
     },
     "execution_count": 23,
     "metadata": {},
     "output_type": "execute_result"
    }
   ],
   "source": [
    "# combine key words, cast and director and set index as title\n",
    "netflix_df['bag_of_words'] = netflix_df[\"Key_words\"] + netflix_df[\"director\"]\n",
    "+ netflix_df[\"cast\"] \n",
    "data = netflix_df[[\"title\", \"bag_of_words\"]].set_index(\"title\")\n",
    "data"
   ]
  },
  {
   "cell_type": "code",
   "execution_count": 24,
   "metadata": {},
   "outputs": [
    {
     "data": {
      "text/plain": [
       "array([[1., 0., 0., ..., 0., 0., 0.],\n",
       "       [0., 1., 0., ..., 0., 0., 0.],\n",
       "       [0., 0., 1., ..., 0., 0., 0.],\n",
       "       ...,\n",
       "       [0., 0., 0., ..., 1., 0., 0.],\n",
       "       [0., 0., 0., ..., 0., 1., 0.],\n",
       "       [0., 0., 0., ..., 0., 0., 1.]])"
      ]
     },
     "execution_count": 24,
     "metadata": {},
     "output_type": "execute_result"
    }
   ],
   "source": [
    "# vectorize the key words\n",
    "count = CountVectorizer()\n",
    "count_matrix = count.fit_transform(data['bag_of_words'])\n",
    "\n",
    "# generate the cosine similarity matrix\n",
    "cosine_sim = cosine_similarity(count_matrix, count_matrix)\n",
    "cosine_sim"
   ]
  },
  {
   "cell_type": "code",
   "execution_count": 25,
   "metadata": {},
   "outputs": [
    {
     "data": {
      "text/plain": [
       "['Cinta 100KG',\n",
       " \"Larry Charles' Dangerous World of Comedy\",\n",
       " 'Can We Get Married?',\n",
       " \"Murphy's Law of Love\",\n",
       " 'Incir Receli 2',\n",
       " 'Love Family',\n",
       " \"The Time Traveler's Wife\",\n",
       " 'Under the Eiffel Tower',\n",
       " 'NiNoKuni',\n",
       " 'Carmen Sandiego']"
      ]
     },
     "execution_count": 25,
     "metadata": {},
     "output_type": "execute_result"
    }
   ],
   "source": [
    "\n",
    "# create a Series for the movie titles so they are associated to an ordered numerical\n",
    "# list used in the function to match the indexes\n",
    "indices = pd.Series(data.index)\n",
    "\n",
    "#  defining the function that takes in movie title \n",
    "# as input and returns the top 10 recommended movies\n",
    "def recommendations(title, cosine_sim = cosine_sim):\n",
    "    \n",
    "    # initializing the empty list of recommended movies\n",
    "    recommended_movies = []\n",
    "    \n",
    "    # gettin the index of the movie that matches the title\n",
    "    idx = indices[indices == title].index[0]\n",
    "\n",
    "    # creating a Series with the similarity scores in descending order\n",
    "    score_series = pd.Series(cosine_sim[idx]).sort_values(ascending = False)\n",
    "\n",
    "    # getting the indexes of the 10 most similar movies\n",
    "    top_10_indexes = list(score_series.iloc[1:11].index)\n",
    "    \n",
    "    # populating the list with the titles of the best 10 matching movies\n",
    "    for i in top_10_indexes:\n",
    "        recommended_movies.append(list(data.index)[i])\n",
    "        \n",
    "    return recommended_movies\n",
    "#  test the recommendation function\n",
    "recommendations(\"Eat Pray Love\")"
   ]
  },
  {
   "cell_type": "code",
   "execution_count": null,
   "metadata": {},
   "outputs": [],
   "source": []
  },
  {
   "cell_type": "code",
   "execution_count": null,
   "metadata": {},
   "outputs": [],
   "source": []
  },
  {
   "cell_type": "code",
   "execution_count": null,
   "metadata": {},
   "outputs": [],
   "source": []
  },
  {
   "cell_type": "code",
   "execution_count": null,
   "metadata": {},
   "outputs": [],
   "source": []
  },
  {
   "cell_type": "code",
   "execution_count": null,
   "metadata": {},
   "outputs": [],
   "source": []
  },
  {
   "cell_type": "code",
   "execution_count": null,
   "metadata": {},
   "outputs": [],
   "source": []
  },
  {
   "cell_type": "code",
   "execution_count": null,
   "metadata": {},
   "outputs": [],
   "source": []
  },
  {
   "cell_type": "code",
   "execution_count": null,
   "metadata": {},
   "outputs": [],
   "source": [
    "# alternative text for removing key words. list function doesn't work\n",
    "for index, row in netflix_df.iterrows():\n",
    "    plot = row['description']\n",
    "    a = r.extract_keywords_from_text(plot)\n",
    "    b=r.get_ranked_phrases()\n",
    "    key_words_dict_scores = r.get_word_degrees()\n",
    "#     print(key_words_dict_scores)\n",
    "\n",
    "row['Key_words'] = list(key_words_dict_scores.keys())\n",
    "netflix_df"
   ]
  },
  {
   "cell_type": "code",
   "execution_count": null,
   "metadata": {},
   "outputs": [],
   "source": []
  },
  {
   "cell_type": "code",
   "execution_count": null,
   "metadata": {},
   "outputs": [],
   "source": [
    "netflix_df.drop_duplicates()\n",
    "netflix_df[\"type\"].value_counts()"
   ]
  },
  {
   "cell_type": "code",
   "execution_count": null,
   "metadata": {},
   "outputs": [],
   "source": [
    "\n",
    "\n",
    "# initializing the new column\n",
    "netflix_df['Key_words'] = \"\"\n",
    "\n",
    "for index, row in netflix_df.iterrows():\n",
    "    plot = row['description']\n",
    "    \n",
    "    # instantiating Rake, by default it uses english stopwords from NLTK\n",
    "    # and discards all puntuation characters as well\n",
    "    r = Rake()\n",
    "\n",
    "    # extracting the words by passing the text\n",
    "    r.extract_keywords_from_text(plot)\n",
    "\n",
    "    # getting the dictionary whith key words as keys and their scores as values\n",
    "    key_words_dict_scores = r.get_word_degrees()\n",
    "    \n",
    "    # assigning the key words to the new column for the corresponding movie\n",
    "    row['Key_words'] = list(key_words_dict_scores.keys())\n",
    "\n",
    "# dropping the Plot column\n",
    "# df.drop(columns = ['Plot'], inplace = True)"
   ]
  },
  {
   "cell_type": "code",
   "execution_count": null,
   "metadata": {},
   "outputs": [],
   "source": []
  },
  {
   "cell_type": "code",
   "execution_count": null,
   "metadata": {},
   "outputs": [],
   "source": [
    "imdb_file = \"IMDb movies.csv\"\n",
    "imdb_df = pd.read_csv(imdb_file)\n",
    "imdb_df.head()"
   ]
  },
  {
   "cell_type": "code",
   "execution_count": null,
   "metadata": {},
   "outputs": [],
   "source": []
  },
  {
   "cell_type": "code",
   "execution_count": null,
   "metadata": {},
   "outputs": [],
   "source": []
  },
  {
   "cell_type": "code",
   "execution_count": null,
   "metadata": {},
   "outputs": [],
   "source": []
  },
  {
   "cell_type": "code",
   "execution_count": null,
   "metadata": {},
   "outputs": [],
   "source": []
  },
  {
   "cell_type": "code",
   "execution_count": null,
   "metadata": {},
   "outputs": [],
   "source": []
  },
  {
   "cell_type": "code",
   "execution_count": null,
   "metadata": {},
   "outputs": [],
   "source": []
  },
  {
   "cell_type": "code",
   "execution_count": null,
   "metadata": {},
   "outputs": [],
   "source": []
  },
  {
   "cell_type": "code",
   "execution_count": null,
   "metadata": {},
   "outputs": [],
   "source": []
  },
  {
   "cell_type": "markdown",
   "metadata": {},
   "source": [
    "### Transform premise DataFrame"
   ]
  },
  {
   "cell_type": "markdown",
   "metadata": {},
   "source": [
    "### Transform county DataFrame"
   ]
  },
  {
   "cell_type": "markdown",
   "metadata": {},
   "source": [
    "### Create database connection"
   ]
  },
  {
   "cell_type": "code",
   "execution_count": null,
   "metadata": {},
   "outputs": [],
   "source": [
    "\n",
    "rds_connection_string = \"postgres:1117@localhost:5432/customer_db\"\n",
    "engine = create_engine(f'postgresql://{rds_connection_string}')"
   ]
  },
  {
   "cell_type": "code",
   "execution_count": null,
   "metadata": {},
   "outputs": [],
   "source": [
    "# Confirm tables\n",
    "engine.table_names()\n"
   ]
  },
  {
   "cell_type": "markdown",
   "metadata": {},
   "source": [
    "### Load DataFrames into database"
   ]
  },
  {
   "cell_type": "code",
   "execution_count": null,
   "metadata": {},
   "outputs": [],
   "source": [
    "new_county_df.to_sql(name='county', con=engine, if_exists='append', index=False)"
   ]
  },
  {
   "cell_type": "code",
   "execution_count": null,
   "metadata": {},
   "outputs": [],
   "source": [
    "new_premise_df.to_sql(name='premise', con=engine, if_exists='append', index=False)"
   ]
  },
  {
   "cell_type": "code",
   "execution_count": null,
   "metadata": {},
   "outputs": [],
   "source": []
  },
  {
   "cell_type": "code",
   "execution_count": null,
   "metadata": {},
   "outputs": [],
   "source": []
  }
 ],
 "metadata": {
  "kernelspec": {
   "display_name": "Python 3",
   "language": "python",
   "name": "python3"
  },
  "language_info": {
   "codemirror_mode": {
    "name": "ipython",
    "version": 3
   },
   "file_extension": ".py",
   "mimetype": "text/x-python",
   "name": "python",
   "nbconvert_exporter": "python",
   "pygments_lexer": "ipython3",
   "version": "3.7.6"
  }
 },
 "nbformat": 4,
 "nbformat_minor": 2
}
